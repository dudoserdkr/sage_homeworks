{
 "cells": [
  {
   "cell_type": "markdown",
   "id": "240177b2-c857-437b-9695-b2f6cdb7de5d",
   "metadata": {},
   "source": [
    "# Лабораторна робота 4. Підгрупи, системи твірних\n",
    "\n",
    "\n",
    "_Примітка_: наведений код є лише одним з можливих шаблонів виконання. Можете писати по-своєму, але розділяйте свій код на функції, щоб їх можна було простіше перевіряти.\n",
    "\n",
    "## Завдання 1. \n",
    "\n",
    "__Знайдіть усі незвідні системи твірних групи $S_4$.__"
   ]
  },
  {
   "cell_type": "code",
   "execution_count": null,
   "id": "48c12298-55e9-4d0f-89c5-bdd276410db8",
   "metadata": {},
   "outputs": [],
   "source": [
    "# ваш код тут "
   ]
  },
  {
   "cell_type": "markdown",
   "id": "bb9f5726-dd3b-48e0-85be-d725af835ce2",
   "metadata": {},
   "source": [
    "## Завдання 2. \n",
    "\n",
    "__Знайдіть усі підгрупи груп $S_4, A_4, S_5, A_5$.__"
   ]
  },
  {
   "cell_type": "code",
   "execution_count": null,
   "id": "600b817c-bfd5-449c-8c18-67848ccb4403",
   "metadata": {},
   "outputs": [],
   "source": [
    "# ваш код тут "
   ]
  },
  {
   "cell_type": "markdown",
   "id": "653a9629-e757-442f-af0b-bd53b4694cff",
   "metadata": {},
   "source": [
    "## Завдання 3. \n",
    "\n",
    "__Задайте дві випадкові підстановки з групи $S_n, \\, (1 \\le n \\le 100)$. Перевірте чи є вони парними. Знайдіть порядок групи, ними породженої. Чи буде ця група дорівнювати $A_n$? $S_n$?__"
   ]
  },
  {
   "cell_type": "code",
   "execution_count": null,
   "id": "ee732968-a661-4c26-b729-6b17b1e0a3e3",
   "metadata": {},
   "outputs": [],
   "source": [
    "# ваш код тут"
   ]
  },
  {
   "cell_type": "markdown",
   "id": "32485aa0-d40f-4b33-a030-7d3bd7722d70",
   "metadata": {},
   "source": [
    "## Завдання 4. \n",
    "\n",
    "__Покажіть, що теорема Лагранжа працює тільки в одну сторону: знайдіть приклад групи $G$ і дільник порядку цієї групи $d$ такі, що не існує підгрупи $H < G$ порядку $d$.__\n",
    "\n",
    "___Зауваження:___ група $A_4$ не приймається"
   ]
  },
  {
   "cell_type": "code",
   "execution_count": null,
   "id": "1391015a-a20e-41d5-b631-6251d1e69316",
   "metadata": {},
   "outputs": [],
   "source": [
    "# ваш код тут "
   ]
  }
 ],
 "metadata": {
  "kernelspec": {
   "display_name": "SageMath 10.3",
   "language": "sage",
   "name": "sagemath-10.3"
  },
  "language_info": {
   "codemirror_mode": {
    "name": "ipython",
    "version": 3
   },
   "file_extension": ".py",
   "mimetype": "text/x-python",
   "name": "python",
   "nbconvert_exporter": "python",
   "pygments_lexer": "ipython3",
   "version": "3.11.8"
  }
 },
 "nbformat": 4,
 "nbformat_minor": 5
}
