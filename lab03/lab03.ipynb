{
 "cells": [
  {
   "cell_type": "markdown",
   "id": "088d0c68-43d4-421c-bdda-91b406d863ba",
   "metadata": {},
   "source": [
    "# Лабораторна робота 3. Групи, порядок елемента в групі\n",
    "\n",
    "_Примітка_: наведений код є лише одним з можливих шаблонів виконання. Можете писати по-своєму, але розділяйте свій код на функції, щоб їх можна було простіше перевіряти.\n",
    "\n",
    "## Завдання 1. \n",
    "\n",
    "__Задайте групи $D_{10}$, $Z_{16}$, $A_5$, $SL(2, \\mathbb{Z}_3)$*. Для кожної з них виведіть таблицю Келі, знайдіть порядок групи, перевірте чи група абелева. Перевірте чи будуть ізоморфними групи $SL(2, Z_3)$ та $D_{12}$.__\n",
    "\n",
    "*: група матриць 2х2 з визначником 1 над полем $\\mathbb{Z}_3$"
   ]
  },
  {
   "cell_type": "code",
   "execution_count": 21,
   "id": "8411013e-cb5f-4276-9113-e0bf1a966b4f",
   "metadata": {},
   "outputs": [],
   "source": [
    "from sage.matrix.operation_table import OperationTable\n",
    "D10 = DihedralGroup(10)\n",
    "Z16 = IntegerModRing(16)\n",
    "A5 = AlternatingGroup(5)\n",
    "SL2Z3 = SL(2, Integers(3))\n",
    "\n",
    "groups = [D10, Z16, A5, SL2Z3]\n",
    "\n",
    "with open(\"output01.txt\", \"w\") as file:\n",
    "    for group in groups:\n",
    "        file.write(f\"--------------------{group}--------------------\\n\")\n",
    "        file.write(\"Keli's table:\\n\")\n",
    "        OT = OperationTable(group, operator.mul)\n",
    "        file.write(str(OT))\n",
    "        file.write(f\"Order: {group.order()}\\n\")\n",
    "        if group == Z16:\n",
    "            file.write(f\"Is Abelian: True\\n\\n\") # Костиль, бо IntegerModRing не має методу is_abelian()\n",
    "        else:   \n",
    "            file.write(f\"Is Abelian: {group.is_abelian()}\\n\\n\")\n",
    "        file.write(\"------------------------------------------------------------------------------------\")\n",
    "        "
   ]
  },
  {
   "cell_type": "markdown",
   "id": "101bece3-af83-4515-ba1a-e2d825b15a8d",
   "metadata": {},
   "source": [
    "## Завдання 2. \n",
    "\n",
    "__Знайдіть к-ть елементів кожного можливого порядку в групах $S_{100}$ та $A_{100}$.__\n",
    "\n",
    "-----\n",
    "___Зауваження___: вивід буде великий, збережіть його в окремий текстовий файл\n",
    "\n",
    "___Зауваження 2___: оцініть спершу к-ть елементів в групі, а потім ще раз подумайте чи варто тут писати повний перебір"
   ]
  },
  {
   "cell_type": "code",
   "execution_count": 56,
   "id": "c5866f5d-ba29-40b9-af38-a4e93198f68d",
   "metadata": {},
   "outputs": [],
   "source": [
    "import time\n",
    "\n",
    "class FileWriter:\n",
    "    def __init__(self, file_name: str) -> None:\n",
    "        self.file_name = file_name\n",
    "\n",
    "    def write(self, data: dict) -> None:\n",
    "        i = 0\n",
    "        with open(self.file_name, 'w') as f:\n",
    "            for key, value in data.items():\n",
    "                i += 1\n",
    "                f.write(f'Order: {key}: Count: {value}\\n')\n",
    "\n",
    "\n",
    "class LCD:\n",
    "    def __init__(self, partition: str, partitioned_number: int) -> None:\n",
    "        self.part = list(map(int, partition.strip().split()))\n",
    "        self.lcd = self.calc_lcd()\n",
    "        self.pn = partitioned_number\n",
    "        self.perm_count = self.permutations_count()\n",
    "\n",
    "    @staticmethod\n",
    "    def gcd(a, b) -> int:\n",
    "        while b:\n",
    "            a, b = b, a % b\n",
    "        return a\n",
    "\n",
    "    def calc_lcd(self) -> int:\n",
    "        lcd = self.part[0]\n",
    "        for i in range(1, len(self.part)):\n",
    "            number = self.part[i]\n",
    "            lcd = lcd * number // self.gcd(lcd, number)\n",
    "        return lcd\n",
    "\n",
    "    @staticmethod\n",
    "    def part_to_dict(part) -> dict:\n",
    "        d = {}\n",
    "        for item in part:\n",
    "            if item in d:\n",
    "                d[item] += 1\n",
    "            else:\n",
    "                d[item] = 1\n",
    "        return d\n",
    "\n",
    "    def permutations_count(self) -> int:\n",
    "        perm_dict = self.part_to_dict(self.part)\n",
    "        a = factorial(self.pn)\n",
    "        for key, value in perm_dict.items():\n",
    "            a //= (key ** value) * factorial(value)\n",
    "        return a\n",
    "\n",
    "\n",
    "# if __name__ == '__main__':\n",
    "#     start_time = time.time()\n",
    "\n",
    "#     with open(\"integers_partitions_100.txt\", \"r\") as file:\n",
    "#         S100 = {}\n",
    "#         for partition in file:\n",
    "#             lcd = LCD(partition, 100)\n",
    "#             S100[lcd.lcd] = S100.get(lcd.lcd, 0) + lcd.perm_count\n",
    "\n",
    "#     S100_sorted = dict(sorted(S100.items()))\n",
    "\n",
    "#     A100_sorted = {}\n",
    "#     for order, count in S100_sorted.items():\n",
    "#         if order % 2 == 0:\n",
    "#             A100_sorted[order] = count // 2\n",
    "\n",
    "#     file_writer = FileWriter(\"output02_S100.txt\")\n",
    "#     file_writer.write(S100_sorted)\n",
    "\n",
    "#     file_writer.file_name = \"output02_A100.txt\"\n",
    "#     file_writer.write(A100_sorted)\n",
    "\n",
    "#     end_time = time.time()\n",
    "#     elapsed_time = end_time - start_time\n",
    "#     print(f\"Elapsed time: {elapsed_time} seconds\")"
   ]
  },
  {
   "cell_type": "markdown",
   "id": "aa1ddcec-2a21-46d5-80be-ff32c79d7de8",
   "metadata": {},
   "source": [
    "## Завдання 3. \n",
    "___Для заданих натуральних $n, k$ ($1 <= n \\le 1 000 000, 1 \\le k \\le n!$) визначте чи існує в групі $S_n$ елемент порядку $k$.___\n",
    "\n",
    "----------\n",
    "___Зауваження:___ зверніть увагу на межі, в яких задано $n, k$. "
   ]
  },
  {
   "cell_type": "code",
   "execution_count": 7,
   "id": "4a04b16b-4a63-4a64-902b-f07148aad1f7",
   "metadata": {},
   "outputs": [
    {
     "name": "stdin",
     "output_type": "stream",
     "text": [
      " 100\n",
      " 1365\n"
     ]
    },
    {
     "name": "stdout",
     "output_type": "stream",
     "text": [
      "True\n"
     ]
    }
   ],
   "source": [
    "def has_order(n, k):\n",
    "    if k == 1:\n",
    "        return n >= 1 \n",
    "    \n",
    "    factors = factor(k)\n",
    "    \n",
    "    sum_powers = sum(p**e for p, e in factors)\n",
    "    \n",
    "    return sum_powers <= n\n",
    "\n",
    "n = int(input())\n",
    "k = int(input())\n",
    "\n",
    "print(has_order(n, k))\n",
    "\n"
   ]
  },
  {
   "cell_type": "code",
   "execution_count": null,
   "id": "eae5f6a3-16ea-4979-9dbe-bd9913feaed2",
   "metadata": {},
   "outputs": [],
   "source": []
  }
 ],
 "metadata": {
  "kernelspec": {
   "display_name": "SageMath 10.4",
   "language": "sage",
   "name": "sagemath-10.4"
  },
  "language_info": {
   "codemirror_mode": {
    "name": "ipython",
    "version": 3
   },
   "file_extension": ".py",
   "mimetype": "text/x-python",
   "name": "python",
   "nbconvert_exporter": "python",
   "pygments_lexer": "ipython3",
   "version": "3.12.4"
  }
 },
 "nbformat": 4,
 "nbformat_minor": 5
}
