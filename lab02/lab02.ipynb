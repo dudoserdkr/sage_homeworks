{
 "cells": [
  {
   "cell_type": "markdown",
   "id": "c1b9613b-2bdf-433e-90eb-947b165c5a72",
   "metadata": {},
   "source": [
    "# Лабораторна робота 2. Бінарні дії\n",
    "\n",
    "__Примітка:__ наведений код є лише одним з можливих шаблонів виконання. Можете писати по-своєму, але розділяйте свій код на функції, щоб їх можна було простіше перевіряти. \n",
    "\n",
    "## Завдання 1.\n",
    "\n",
    "__Визначити усіма можливими способами бінарну дію на множині з n=2,3 елементів. Побудувати таблицю Келі для кожної з цих дій.__\n",
    "\n",
    "_Підказка_: використайте класи FiniteSetMaps та OperationTable, як показано в [прикладах](../notebooks/02-binary_actions.ipynb). "
   ]
  },
  {
   "cell_type": "code",
   "execution_count": 2,
   "id": "6f31f202-7995-4a06-8200-86d856441f8b",
   "metadata": {},
   "outputs": [],
   "source": [
    "from sage.matrix.operation_table import OperationTable\n",
    "from itertools import product\n",
    "\n",
    "needed_set = [1, 2, 3]\n",
    "\n",
    "def all_actions(space):\n",
    "    keys = list(product(space, repeat=2))\n",
    "    for values in product(space, repeat=len(keys)):\n",
    "        mapping = dict(zip(keys, values))\n",
    "        yield mapping\n",
    "\n",
    "counter = 0\n",
    "\n",
    "for action in all_actions(needed_set):\n",
    "    counter += 1\n",
    "    def action_func(a, b):\n",
    "        return action[(a, b)]\n",
    "\n",
    "with open('output_hw2_ker1.txt', 'w') as out_file:\n",
    "    idx = 0\n",
    "    for act in all_actions(needed_set):\n",
    "        idx += 1\n",
    "        def func(x, y):\n",
    "            return act[(x, y)]\n",
    "        out_file.write(f\"Number: {idx}\\n\")\n",
    "        print(OperationTable(needed_set, func, names='elements'), file=out_file)\n"
   ]
  },
  {
   "cell_type": "markdown",
   "id": "c5354f64-79db-41b1-8307-82cc2e7a56a5",
   "metadata": {},
   "source": [
    "## Завдання 2. \n",
    "__Для кожної з визначених дій перевірити чи буде дія асоціативною. Якщо дія не асоціативна, то вивести трійку, для якої ця умова порушується.__"
   ]
  },
  {
   "cell_type": "code",
   "execution_count": 3,
   "id": "29ff592c-1ddf-4bc4-a4d5-7b4d14fecb61",
   "metadata": {},
   "outputs": [],
   "source": []
  },
  {
   "cell_type": "markdown",
   "id": "ab7093b0-a376-4ade-bdda-06612fad28ec",
   "metadata": {},
   "source": [
    "## Завдання 3. \n",
    "\n",
    "__Перевірити, які з визначених множин з асоціативними бінарними діями будуть ізоморфними між собою і знайти кількість класів попарно ізоморфних між собою множин.__"
   ]
  },
  {
   "cell_type": "code",
   "execution_count": 18,
   "id": "61c4c69b-b6f4-4411-96d7-e6783f0a24d8",
   "metadata": {},
   "outputs": [
    {
     "name": "stdout",
     "output_type": "stream",
     "text": [
      "К-ть класів ізоморфності: 0\n",
      "К-ть дій в кожному класі:\n"
     ]
    }
   ],
   "source": [
    "def is_isomorphic(space1, action1, space2, action2): \n",
    "    # Ваш код тут. \n",
    "\n",
    "    ...\n",
    "    return False\n",
    "\n",
    "\n",
    "# список представників класів ізоморфності \n",
    "isomorph_classes = []\n",
    "\n",
    "for f1 in associative_actions: \n",
    "    for iso_class in isomorph_classes: \n",
    "        f2 = iso_class[0]\n",
    "        if is_isomorphic(needed_set, f1, needed_set, f2): \n",
    "            iso_class[1] += 1\n",
    "            break \n",
    "    # якщо жоден з представників не ізоморфний \n",
    "    else:    \n",
    "        isomorph_classes.append([f1, 1])\n",
    "\n",
    "print('К-ть класів ізоморфності:', len(isomorph_classes))\n",
    "print('К-ть дій в кожному класі:')\n",
    "for iso_class in isomorph_classes: \n",
    "    print(*iso_class)"
   ]
  }
 ],
 "metadata": {
  "kernelspec": {
   "display_name": "Python 3 (ipykernel)",
   "language": "python",
   "name": "python3"
  },
  "language_info": {
   "codemirror_mode": {
    "name": "ipython",
    "version": 3
   },
   "file_extension": ".py",
   "mimetype": "text/x-python",
   "name": "python",
   "nbconvert_exporter": "python",
   "pygments_lexer": "ipython3",
   "version": "3.12.4"
  }
 },
 "nbformat": 4,
 "nbformat_minor": 5
}
