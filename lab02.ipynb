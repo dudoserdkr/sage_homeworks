{
 "cells": [
  {
   "cell_type": "markdown",
   "id": "c1b9613b-2bdf-433e-90eb-947b165c5a72",
   "metadata": {},
   "source": [
    "# Лабораторна робота 2. Бінарні дії\n",
    "\n",
    "__Примітка:__ наведений код є лише одним з можливих шаблонів виконання. Можете писати по-своєму, але розділяйте свій код на функції, щоб їх можна було простіше перевіряти. \n",
    "\n",
    "## Завдання 1.\n",
    "\n",
    "__Визначити усіма можливими способами бінарну дію на множині з n=2,3 елементів. Побудувати таблицю Келі для кожної з цих дій.__\n",
    "\n",
    "_Підказка_: використайте класи FiniteSetMaps та OperationTable, як показано в [прикладах](../notebooks/02-binary_actions.ipynb). "
   ]
  },
  {
   "cell_type": "code",
   "execution_count": 4,
   "id": "6f31f202-7995-4a06-8200-86d856441f8b",
   "metadata": {},
   "outputs": [],
   "source": [
    "needed_set = [1, 2]\n",
    "# needed_set = [1, 2, 3]\n",
    "\n",
    "\n",
    "def all_actions(space):\n",
    "    # Ваш код тут. \n",
    "    ...\n",
    "    return []\n",
    "\n",
    "\n",
    "for f in all_actions(needed_set): \n",
    "    ... "
   ]
  },
  {
   "cell_type": "markdown",
   "id": "c5354f64-79db-41b1-8307-82cc2e7a56a5",
   "metadata": {},
   "source": [
    "## Завдання 2. \n",
    "__Для кожної з визначених дій перевірити чи буде дія асоціативною. Якщо дія не асоціативна, то вивести трійку, для якої ця умова порушується.__"
   ]
  },
  {
   "cell_type": "code",
   "execution_count": 6,
   "id": "29ff592c-1ddf-4bc4-a4d5-7b4d14fecb61",
   "metadata": {},
   "outputs": [
    {
     "name": "stdout",
     "output_type": "stream",
     "text": [
      "К-ть асоціативних дій для 2-елементної множини: 0\n"
     ]
    }
   ],
   "source": [
    "def is_associative(space, action): \n",
    "    # Ваш код тут. \n",
    "    ... \n",
    "    return True, None \n",
    "\n",
    "\n",
    "needed_set = [1, 2]\n",
    "# needed_set = [1, 2, 3]\n",
    "\n",
    "associative_actions = []\n",
    "\n",
    "for f in all_actions(needed_set): \n",
    "\n",
    "    result, counter = is_associative(needed_set, f)\n",
    "    if not result: \n",
    "        print(\"Дія не асоціативна, контрприклад:\", counter)\n",
    "    else: \n",
    "        associative_actions.append(f)\n",
    "\n",
    "\n",
    "print(f'К-ть асоціативних дій для {len(needed_set)}-елементної множини:', len(associative_actions))"
   ]
  },
  {
   "cell_type": "markdown",
   "id": "ab7093b0-a376-4ade-bdda-06612fad28ec",
   "metadata": {},
   "source": [
    "## Завдання 3. \n",
    "\n",
    "__Перевірити, які з визначених множин з асоціативними бінарними діями будуть ізоморфними між собою і знайти кількість класів попарно ізоморфних між собою множин.__"
   ]
  },
  {
   "cell_type": "code",
   "execution_count": 18,
   "id": "61c4c69b-b6f4-4411-96d7-e6783f0a24d8",
   "metadata": {},
   "outputs": [
    {
     "name": "stdout",
     "output_type": "stream",
     "text": [
      "К-ть класів ізоморфності: 0\n",
      "К-ть дій в кожному класі:\n"
     ]
    }
   ],
   "source": [
    "def is_isomorphic(space1, action1, space2, action2): \n",
    "    # Ваш код тут. \n",
    "\n",
    "    ...\n",
    "    return False\n",
    "\n",
    "\n",
    "# список представників класів ізоморфності \n",
    "isomorph_classes = []\n",
    "\n",
    "for f1 in associative_actions: \n",
    "    for iso_class in isomorph_classes: \n",
    "        f2 = iso_class[0]\n",
    "        if is_isomorphic(needed_set, f1, needed_set, f2): \n",
    "            iso_class[1] += 1\n",
    "            break \n",
    "    # якщо жоден з представників не ізоморфний \n",
    "    else:    \n",
    "        isomorph_classes.append([f1, 1])\n",
    "\n",
    "print('К-ть класів ізоморфності:', len(isomorph_classes))\n",
    "print('К-ть дій в кожному класі:')\n",
    "for iso_class in isomorph_classes: \n",
    "    print(*iso_class)"
   ]
  }
 ],
 "metadata": {
  "kernelspec": {
   "display_name": "SageMath 10.3",
   "language": "sage",
   "name": "sagemath-10.3"
  },
  "language_info": {
   "codemirror_mode": {
    "name": "ipython",
    "version": 3
   },
   "file_extension": ".py",
   "mimetype": "text/x-python",
   "name": "python",
   "nbconvert_exporter": "python",
   "pygments_lexer": "ipython3",
   "version": "3.11.8"
  }
 },
 "nbformat": 4,
 "nbformat_minor": 5
}
