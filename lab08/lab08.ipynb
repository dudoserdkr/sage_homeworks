{
 "cells": [
  {
   "attachments": {},
   "cell_type": "markdown",
   "id": "d344deb3-66ad-4695-ac16-cddf4c362d38",
   "metadata": {},
   "source": [
    "# Лабораторна робота 8\n",
    "\n",
    "__Знайдіть к-ть різних розфарбувань кубика Рубика 2х2х2, використовуючи 10 кольорів.__\n",
    "\n",
    "\n",
    "![rubik cube](../docs/labs_assets/rubik_cube.jpg)\n",
    "\n",
    "Два розфарбування називатимуться однаковими, якщо існує послідовність рухів кубика рубика, яка одне розфарбування переводить в інше. \n",
    "\n",
    "Не обовʼязково використовувати всі 10 кольорів, тобто допустимо пофарбувати весь кубик в один колір. \n",
    "\n",
    "___Приклад___: існує 183 різних розфарбувань, використовуючи 2 кольори. \n",
    "\n",
    "Логіка наступна: обраховувати будемо за лемою Бернсайда:\n",
    "$$\n",
    "\\frac{1}{|G|}\\sum_{g \\in G}Stab(g)\n",
    "$$\n",
    "$Stab(g)$ - кількість підстановок кольорів, які при дії $G$ не змінюються. Звідси $Stab(g) = k^m$  \n",
    "Дійсно, нехай $h \\in H$, містить m незалежних циклів, тоді ця перестановка стабілізована якщо всі незалежні цикли мають тільки один колір   за умовою задачі всі незаленжі цикли мають тільки одни колір, $Stab(g) = k^m$  "
   ]
  },
  {
   "cell_type": "code",
   "execution_count": 2,
   "id": "a8ac4995-14b4-467d-a1f3-128841eabfb9",
   "metadata": {},
   "outputs": [
    {
     "name": "stdout",
     "output_type": "stream",
     "text": [
      "88179840\n",
      "count with 2 colors: 183\n",
      "count with 10 colors: 12395526079546335\n"
     ]
    }
   ],
   "source": [
    "def cout_colorings(k, H):\n",
    "    summ = 0\n",
    "    \n",
    "    for cc in H.conjugacy_classes():\n",
    "        h = cc.representative()\n",
    "        m = len(h.cycle_type())\n",
    "        \n",
    "        kM = k^m\n",
    "        \n",
    "        summ += cc.cardinality() * kM\n",
    "    \n",
    "    return summ / H.order()\n",
    "\n",
    "G = SymmetricGroup(24)\n",
    "g1 = G('(1, 2, 4, 3)(5, 24, 9, 7)(6, 23, 10, 8)')\n",
    "g2 = G('(21, 22, 24, 23)(1,11,20,10)(2,5,19,16)')\n",
    "g3 = G('(7, 8, 14, 13)(12, 3, 9, 18)(6, 4, 15, 17)')\n",
    "g4 = G('(5, 6, 12, 11)(3,13,19,23)(1,7,17,21)')\n",
    "g5 = G('(20, 19, 17, 18)(15,22, 11,13)(16,21,12,14)')\n",
    "g6 = G('(10, 16, 15, 9)(2, 22,18, 8)(4, 24, 20, 14)')\n",
    "\n",
    "H = G.subgroup([g1, g2, g3, g4, g5, g6])\n",
    "\n",
    "print(H.order())\n",
    "\n",
    "print(\"count with 2 colors:\", cout_colorings(2, H))\n",
    "print(\"count with 10 colors:\", cout_colorings(10, H))"
   ]
  }
 ],
 "metadata": {
  "kernelspec": {
   "display_name": "SageMath 10.4",
   "language": "sage",
   "name": "sagemath-10.4"
  },
  "language_info": {
   "codemirror_mode": {
    "name": "ipython",
    "version": 3
   },
   "file_extension": ".py",
   "mimetype": "text/x-python",
   "name": "python",
   "nbconvert_exporter": "python",
   "pygments_lexer": "ipython3",
   "version": "3.12.4"
  }
 },
 "nbformat": 4,
 "nbformat_minor": 5
}
